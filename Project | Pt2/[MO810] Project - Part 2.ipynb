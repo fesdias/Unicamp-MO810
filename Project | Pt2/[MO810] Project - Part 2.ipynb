{
 "cells": [
  {
   "cell_type": "markdown",
   "id": "543ba1af",
   "metadata": {},
   "source": [
    "## Task 0 | Evaluate performance\n",
    "Run with 2, 3, 4, 1 computers\n",
    "\n",
    "Pipeline to change the execution hyperparameters \n",
    "\n",
    "https://docs.google.com/document/d/1DcuwOcZi-Oo4K2QnyHezIYaPu3Nq_oAm44b34ztGgrE/edit"
   ]
  },
  {
   "cell_type": "markdown",
   "id": "8e111072",
   "metadata": {},
   "source": [
    "## Task 1 | train-model.py\n",
    "Train and evaluate the models for attribute seismic regression: Envelope, Inst Freq, Cos Inst Phase\n",
    "\n",
    "XGBoost - Default hyperparameters"
   ]
  },
  {
   "cell_type": "code",
   "execution_count": null,
   "id": "f610e013",
   "metadata": {},
   "outputs": [],
   "source": [
    "from dasf.transforms import Transform\n",
    "import pandas as pd\n",
    "\n",
    "class Neighbors(Transform):\n",
    "    def _lazy_transform_cpu(self, data, x, y, z):\n",
    "        print(\"Lazy CPU\")\n",
    "        \n",
    "        # (1 + 2*x + 2*y + 2*z)\n",
    "        neighbors = np.zeros([data.shape[0], data.shape[1], data.shape[2]])\n",
    "\n",
    "        for i in range(data.shape[0]):\n",
    "            for j in range(data.shape[1]):\n",
    "                for k in range(data.shape[2]):\n",
    "                    \n",
    "                    x_neighbor = dataset[max(i-x, 0):min(i+x+1, dataset.shape[0]), j, k]\n",
    "                    y_neighbor = dataset[i, max(j-y, 0):min(j+y+1, dataset.shape[1]), k]\n",
    "                    z_neighbor = dataset[i, j, max(k-z, 0):min(k+z+1, dataset.shape[2])]\n",
    "                    \n",
    "                    neighbor_values    = np.concatenate(([data[i, j, k]], x_neighbor.flatten(), y_neighbor.flatten(), z_neighbor.flatten()))\n",
    "                    neighbors[i, j, k] = neighbor_values\n",
    "\n",
    "        return neighbors\n",
    "    \n",
    "    def _lazy_transform_gpu(self, X):\n",
    "        print(\"Lazy GPU\")\n",
    "        return X * X\n",
    "    \n",
    "    def _transform_cpu(self, X):\n",
    "        print(\"CPU\")\n",
    "        return X * X\n",
    "    \n",
    "    def _transform_gpu(self, X):\n",
    "        print(\"GPU\")\n",
    "        return X * X\n",
    "\n",
    "\n",
    "def add_features(data, inline-window, trace-window, samples-window):"
   ]
  },
  {
   "cell_type": "code",
   "execution_count": null,
   "id": "3102a1a2",
   "metadata": {},
   "outputs": [],
   "source": [
    "from sklearn.model_selection import train_test_split\n",
    "\n",
    "def train_envelope(data, label):\n",
    "    \n",
    "    # Split train and test set\n",
    "    x_train, x_test, y_train, y_test = train_test_split(data, label, random_state = 48, test_size = 0.25)\n",
    "    \n",
    "    # Select linear model\n",
    "    \n",
    "    "
   ]
  },
  {
   "cell_type": "code",
   "execution_count": null,
   "id": "8430089e",
   "metadata": {},
   "outputs": [],
   "source": [
    "def train_inst_freq():"
   ]
  },
  {
   "cell_type": "code",
   "execution_count": null,
   "id": "dea07b54",
   "metadata": {},
   "outputs": [],
   "source": [
    "def train_cos_inst_phase():"
   ]
  },
  {
   "cell_type": "code",
   "execution_count": null,
   "id": "92b6a7b2",
   "metadata": {},
   "outputs": [],
   "source": [
    "def main(attribute, data, inline-window, trace-window, samples-window, address, output):\n",
    "https://github.com/otavioon/dasf-seismic-lite/blob/main/reference.py\n",
    "    \n",
    "    # Feature selection - CRIAR TRANSFORM\n",
    "    # data_frame = add_features(data, inline-window, trace-window, samples-window)\n",
    "    https://github.com/discovery-unicamp/dasf-core/blob/main/docs/tutorials/Tutorial_3.ipynb\n",
    "    \n",
    "    # Feature scaling\n",
    "    https://github.com/discovery-unicamp/dasf-core/blob/main/dasf/ml/preprocessing/standardscaler.py\n",
    "    \n",
    "    # Models\n",
    "    https://github.com/discovery-unicamp/dasf-core/blob/main/dasf/ml/xgboost/xgboost.py"
   ]
  },
  {
   "cell_type": "markdown",
   "id": "b740e282",
   "metadata": {},
   "source": [
    "## Task 2 | run-model.py\n",
    "\n",
    "Using a model created, calculate the attribute and generate an output file"
   ]
  },
  {
   "cell_type": "code",
   "execution_count": null,
   "id": "586855d5",
   "metadata": {},
   "outputs": [],
   "source": [
    "def main(ml-model, data, inline-window, trace-window, samples-window, address, output):"
   ]
  },
  {
   "cell_type": "markdown",
   "id": "222fa5b8",
   "metadata": {},
   "source": [
    "## Task 3 | Best models\n",
    "\n",
    "Change hyperparameters of XGBoost to generate the best models"
   ]
  },
  {
   "cell_type": "code",
   "execution_count": null,
   "id": "0986a394",
   "metadata": {},
   "outputs": [],
   "source": [
    "# Output: Env-ml-model-x-y-z.json\n",
    "def train_envelope():"
   ]
  },
  {
   "cell_type": "code",
   "execution_count": null,
   "id": "b77875af",
   "metadata": {},
   "outputs": [],
   "source": [
    "# Output: Inst-Freq-ml-model-x-y-z.json\n",
    "def train_inst_freq():"
   ]
  },
  {
   "cell_type": "code",
   "execution_count": null,
   "id": "de3a14be",
   "metadata": {},
   "outputs": [],
   "source": [
    "# Output: CIP-ml-model-x-y-z.json\n",
    "def train_cos_inst_phase():"
   ]
  }
 ],
 "metadata": {
  "kernelspec": {
   "display_name": "Python 3",
   "language": "python",
   "name": "python3"
  },
  "language_info": {
   "codemirror_mode": {
    "name": "ipython",
    "version": 3
   },
   "file_extension": ".py",
   "mimetype": "text/x-python",
   "name": "python",
   "nbconvert_exporter": "python",
   "pygments_lexer": "ipython3",
   "version": "3.8.0"
  }
 },
 "nbformat": 4,
 "nbformat_minor": 5
}
